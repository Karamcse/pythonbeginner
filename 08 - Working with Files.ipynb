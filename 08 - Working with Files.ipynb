{
 "cells": [
  {
   "cell_type": "markdown",
   "metadata": {},
   "source": [
    "## Reading Text from a File "
   ]
  },
  {
   "cell_type": "markdown",
   "metadata": {},
   "source": [
    "In order to read and write a file, Python built-in function open() is used to open the file. \n",
    "The open() function creates a file object.\n",
    "Syntax\n",
    "\n",
    " \n",
    "file object = open(file_name [, access_mode])\n",
    "\n",
    "First argument file_name represents the file name that you want to access.\n",
    "Second argument access_mode determines, in which mode the file has to be opened, i.e., read, write, append, etc.\n",
    "Access_mode for reading, is 'r' ."
   ]
  },
  {
   "cell_type": "code",
   "execution_count": 12,
   "metadata": {
    "collapsed": false
   },
   "outputs": [
    {
     "name": "stdout",
     "output_type": "stream",
     "text": [
      "Hi I am karam\n",
      "How do you do?\n",
      "Python is best programming language.\n",
      "Easy to learn.\n"
     ]
    }
   ],
   "source": [
    "file_input = open(\"simple.txt\",'r')\n",
    "all_read = file_input.read()\n",
    "print all_read\n",
    "file_input.close() "
   ]
  },
  {
   "cell_type": "code",
   "execution_count": 13,
   "metadata": {
    "collapsed": false
   },
   "outputs": [
    {
     "name": "stdout",
     "output_type": "stream",
     "text": [
      "Hi I \n",
      "am karam\n",
      "H\n"
     ]
    }
   ],
   "source": [
    "file_input = open(\"simple.txt\",'r')\n",
    "print file_input.read(5)\n",
    "print file_input.read(10)\n",
    "file_input.close() "
   ]
  },
  {
   "cell_type": "markdown",
   "metadata": {},
   "source": [
    "Reading line by line to do this use **readline()** function."
   ]
  },
  {
   "cell_type": "code",
   "execution_count": 14,
   "metadata": {
    "collapsed": false
   },
   "outputs": [
    {
     "name": "stdout",
     "output_type": "stream",
     "text": [
      "Hi I am karam\n",
      "\n",
      "How do you do?\n",
      "\n"
     ]
    }
   ],
   "source": [
    "file_input = open(\"simple.txt\",'r')\n",
    "print file_input.readline()\n",
    "print file_input.readline()\n",
    "file_input.close() "
   ]
  },
  {
   "cell_type": "markdown",
   "metadata": {},
   "source": [
    "What happen it I use **readlines()** function. "
   ]
  },
  {
   "cell_type": "code",
   "execution_count": 15,
   "metadata": {
    "collapsed": false
   },
   "outputs": [
    {
     "name": "stdout",
     "output_type": "stream",
     "text": [
      "['Hi I am karam\\n', 'How do you do?\\n', 'Python is best programming language.\\n', 'Easy to learn.']\n"
     ]
    }
   ],
   "source": [
    "file_input = open(\"simple.txt\",'r')\n",
    "print file_input.readlines()\n",
    "file_input.close() "
   ]
  },
  {
   "cell_type": "markdown",
   "metadata": {},
   "source": [
    "For reading lines from a file, you can **loop over the file object**. This is memory efficient, fast, and leads to simple code. "
   ]
  },
  {
   "cell_type": "code",
   "execution_count": 16,
   "metadata": {
    "collapsed": false
   },
   "outputs": [
    {
     "name": "stdout",
     "output_type": "stream",
     "text": [
      "Hi I am karam\n",
      "\n",
      "How do you do?\n",
      "\n",
      "Python is best programming language.\n",
      "\n",
      "Easy to learn.\n"
     ]
    }
   ],
   "source": [
    "f= open(\"simple.txt\", 'r')\n",
    "for line in f:\n",
    "   print line "
   ]
  },
  {
   "cell_type": "markdown",
   "metadata": {},
   "source": [
    "## Writing text to a file"
   ]
  },
  {
   "cell_type": "markdown",
   "metadata": {},
   "source": [
    "In this section we will discuss write a file with Python. This time we will use write mode \"w\" in open() function.\n",
    "We will use write() function. "
   ]
  },
  {
   "cell_type": "code",
   "execution_count": 17,
   "metadata": {
    "collapsed": true
   },
   "outputs": [],
   "source": [
    "text_file = open(\"writeit.txt\",'w')\n",
    "text_file.write(\"My name is Karam\")\n",
    "text_file.write(\"\\nI am a Trainer\")\n",
    "text_file.write(\"\\nI am also Data Scientist\")\n",
    "text_file.close() "
   ]
  },
  {
   "cell_type": "markdown",
   "metadata": {},
   "source": [
    "Next I create same file using writelines() function. \n",
    "This method writes a list of strings to a file. In this i create a list of strings to be written."
   ]
  },
  {
   "cell_type": "code",
   "execution_count": 18,
   "metadata": {
    "collapsed": true
   },
   "outputs": [],
   "source": [
    "line =[\"My name is Karam \\n\",\n",
    "\"I am a Trainer \\n\",\n",
    "\"I am also Data Scientist\"]\n",
    "text_file = open(\"writenew.txt\", 'w')\n",
    "text_file.writelines(line) "
   ]
  },
  {
   "cell_type": "markdown",
   "metadata": {
    "collapsed": true
   },
   "source": [
    "## Using the pickle module"
   ]
  },
  {
   "cell_type": "markdown",
   "metadata": {},
   "source": [
    "Text files are convenient because you can read, write and append them with any text editor, but they are limited to storing a series of character. Sometimes you may want to store more complex information like list, dictionary.\n",
    "Here we will use Python pickle. Python Pickle is used to store more complex data like list, dictionary. "
   ]
  },
  {
   "cell_type": "code",
   "execution_count": 19,
   "metadata": {
    "collapsed": true
   },
   "outputs": [],
   "source": [
    "import cPickle\n",
    "name = [\"Mohit\", \"Ravi\",\"Bhaskar\"]\n",
    "skill = [\"Python\", \"Java\", \"java\"]\n",
    "pickle_file = open(\"pick.dat\",\"w\")\n",
    "cPickle.dump(name,pickle_file)\n",
    "cPickle.dump(skill,pickle_file)\n",
    "pickle_file.close() "
   ]
  },
  {
   "cell_type": "markdown",
   "metadata": {},
   "source": [
    "## Reading data from file and Unpickling"
   ]
  },
  {
   "cell_type": "markdown",
   "metadata": {},
   "source": [
    "Now time to retrieve and unpickle the two lists with the cPickle.load() function. The function takes one argument as file from which to load next pickled object. "
   ]
  },
  {
   "cell_type": "code",
   "execution_count": 20,
   "metadata": {
    "collapsed": false
   },
   "outputs": [
    {
     "name": "stdout",
     "output_type": "stream",
     "text": [
      "['Mohit', 'Ravi', 'Bhaskar'] \n",
      "['Python', 'Java', 'java']\n"
     ]
    }
   ],
   "source": [
    "import cPickle\n",
    "pickle_file = open(\"pick.dat\",'r')\n",
    "name = cPickle.load(pickle_file)\n",
    "skill=cPickle.load(pickle_file)\n",
    "print name ,\"\\n\", skill "
   ]
  }
 ],
 "metadata": {
  "kernelspec": {
   "display_name": "Python 2",
   "language": "python",
   "name": "python2"
  },
  "language_info": {
   "codemirror_mode": {
    "name": "ipython",
    "version": 2
   },
   "file_extension": ".py",
   "mimetype": "text/x-python",
   "name": "python",
   "nbconvert_exporter": "python",
   "pygments_lexer": "ipython2",
   "version": "2.7.11"
  }
 },
 "nbformat": 4,
 "nbformat_minor": 0
}
