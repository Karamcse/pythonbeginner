{
 "cells": [
  {
   "cell_type": "markdown",
   "metadata": {},
   "source": [
    "## Regular Expression\n",
    "A regular expression is a special text string for describing a search pattern The Python re module provides regular expression support.\n",
    "We will discuss regular expression and searching functions one by one.\n",
    "## match()\n",
    "First we discuss match() function.\n",
    "Syntax\n",
    "\n",
    "re.match(pattern, string, flags=0)\n",
    "\n",
    "pattern = The regular expression to be matched.\n",
    "string = Given string in which pattern is matched.\n",
    "flag = You can specify different flags using bitwise OR (|). These flag we will discuss later.\n",
    "This match() function matches the pattern in the beginning of a given string. If match is found it returns pattern, if match is not found it returns None . "
   ]
  },
  {
   "cell_type": "code",
   "execution_count": 1,
   "metadata": {
    "collapsed": false
   },
   "outputs": [
    {
     "name": "stdout",
     "output_type": "stream",
     "text": [
      "<_sre.SRE_Match object at 0x0000000003D31168>\n",
      "Every\n"
     ]
    }
   ],
   "source": [
    "import re\n",
    "line = \"Every thing is planned\"\n",
    "patten ='Every'\n",
    "m =re.match(patten,line)\n",
    "print m\n",
    "print m.group() "
   ]
  },
  {
   "cell_type": "markdown",
   "metadata": {},
   "source": [
    "The variable m just prints memory address of pattern and m.group() prints the pattern. "
   ]
  },
  {
   "cell_type": "markdown",
   "metadata": {},
   "source": [
    "## search()\n",
    "Syntax\n",
    "\n",
    "re.search(pattern, string, flags=0)\n",
    "\n",
    "The function search() finds the first occurrence of pattern in string. If pattern is found it returns pattern, None otherwise.\n",
    "match.start() find the starting point of matched pattern.\n",
    "match.end() find the end point of matched pattern."
   ]
  },
  {
   "cell_type": "code",
   "execution_count": 3,
   "metadata": {
    "collapsed": false
   },
   "outputs": [
    {
     "name": "stdout",
     "output_type": "stream",
     "text": [
      "Found this in  in this world nothing is permanent from 4 to 8\n"
     ]
    }
   ],
   "source": [
    "import re\n",
    "pattern = \"this\"\n",
    "text = \" in this world nothing is permanent\"\n",
    "match = re.search(pattern,text)\n",
    "s = match.start()\n",
    "e = match.end()\n",
    "print \"Found\", match.re.pattern ,\"in\", text, \"from\", s, \"to\", e "
   ]
  },
  {
   "cell_type": "markdown",
   "metadata": {},
   "source": [
    "The search function checks for a match anywhere in the string. "
   ]
  },
  {
   "cell_type": "markdown",
   "metadata": {},
   "source": [
    "## Matching Versus Searching\n",
    "\n",
    "Python offers two different primitive operations based on regular expressions: match checks for a match only at the beginning of the string, while search checks for a match anywhere in the string (this is what Perl does by default)."
   ]
  },
  {
   "cell_type": "code",
   "execution_count": 8,
   "metadata": {
    "collapsed": false
   },
   "outputs": [
    {
     "name": "stdout",
     "output_type": "stream",
     "text": [
      "No match!!\n",
      "search --> searchObj.group() :  dogs\n"
     ]
    }
   ],
   "source": [
    "import re\n",
    "\n",
    "line = \"Cats are smarter than dogs\";\n",
    "\n",
    "matchObj = re.match( r'dogs', line, re.M|re.I)\n",
    "if matchObj:\n",
    "   print \"match --> matchObj.group() : \", matchObj.group()\n",
    "else:\n",
    "   print \"No match!!\"\n",
    "\n",
    "searchObj = re.search( r'dogs', line, re.M|re.I)\n",
    "if searchObj:\n",
    "   print \"search --> searchObj.group() : \", searchObj.group()\n",
    "else:\n",
    "   print \"Nothing found!!\""
   ]
  },
  {
   "cell_type": "markdown",
   "metadata": {},
   "source": [
    "## sub()\n",
    "Syntax\n",
    "\n",
    "re.sub(pattern, replace, string, max=0)\n",
    "\n",
    "The method sub() replaces the occurrence of RE pattern in string with replace sub-string. "
   ]
  },
  {
   "cell_type": "code",
   "execution_count": 4,
   "metadata": {
    "collapsed": false
   },
   "outputs": [
    {
     "name": "stdout",
     "output_type": "stream",
     "text": [
      "New date is  20140634\n",
      "New date is  201406-34\n"
     ]
    }
   ],
   "source": [
    "import re\n",
    "date = \"2014-06-34\"\n",
    "newdate = re.sub('-',\"\",date)\n",
    "print \"New date is \",newdate\n",
    "\n",
    "newdate = re.sub('-',\"\",date,1)\n",
    "print \"New date is \",newdate "
   ]
  },
  {
   "cell_type": "markdown",
   "metadata": {},
   "source": [
    "The above example shows that, first newdate, all occurrence of - are replaced by \" \" and in second example only first occurrence of - is replaced. If max =0 all then all occurrence are replaced. "
   ]
  },
  {
   "cell_type": "code",
   "execution_count": 6,
   "metadata": {
    "collapsed": false
   },
   "outputs": [
    {
     "name": "stdout",
     "output_type": "stream",
     "text": [
      "Phone Num :  2004-959-559 \n",
      "Phone Num :  2004959559\n"
     ]
    }
   ],
   "source": [
    "import re\n",
    "\n",
    "phone = \"2004-959-559 # This is Phone Number\"\n",
    "\n",
    "# Delete Python-style comments\n",
    "num = re.sub(r'#.*$', \"\", phone)\n",
    "print \"Phone Num : \", num\n",
    "\n",
    "# Remove anything other than digits\n",
    "num = re.sub(r'\\D', \"\", phone)    \n",
    "print \"Phone Num : \", num"
   ]
  },
  {
   "cell_type": "markdown",
   "metadata": {},
   "source": [
    "## findall()\n",
    "Syntax\n",
    "\n",
    "findall(pattern, string)\n",
    "\n",
    "If you want to find all occurrence of pattern RE in string, use findall() function. "
   ]
  },
  {
   "cell_type": "code",
   "execution_count": 5,
   "metadata": {
    "collapsed": false
   },
   "outputs": [
    {
     "name": "stdout",
     "output_type": "stream",
     "text": [
      "found this\n",
      "found this\n",
      "found this\n",
      "Found this 4 from 8\n",
      "Found this 36 from 40\n",
      "Found this 56 from 60\n"
     ]
    }
   ],
   "source": [
    "import re\n",
    "pattern = \"this\"\n",
    "text = \" in this world nothing is permanent this is last number this\"\n",
    "for match in re.findall(pattern,text):\n",
    "   print \"found\", match\n",
    "\n",
    "for match in re.finditer(pattern,text):\n",
    "   s = match.start()\n",
    "   e = match.end()\n",
    "   print \"Found\", match.re.pattern, s, \"from\", e "
   ]
  }
 ],
 "metadata": {
  "kernelspec": {
   "display_name": "Python 2",
   "language": "python",
   "name": "python2"
  },
  "language_info": {
   "codemirror_mode": {
    "name": "ipython",
    "version": 2
   },
   "file_extension": ".py",
   "mimetype": "text/x-python",
   "name": "python",
   "nbconvert_exporter": "python",
   "pygments_lexer": "ipython2",
   "version": "2.7.11"
  }
 },
 "nbformat": 4,
 "nbformat_minor": 0
}
