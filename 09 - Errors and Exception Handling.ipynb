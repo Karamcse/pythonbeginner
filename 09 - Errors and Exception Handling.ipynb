{
 "cells": [
  {
   "cell_type": "markdown",
   "metadata": {},
   "source": [
    "## Try statement with an except clause\n",
    "In order to handle the exception, try and except block is used. A single try statement can have multiple except statement. Due to multiple Python exception, program can throw a exception in appropriate section. "
   ]
  },
  {
   "cell_type": "code",
   "execution_count": null,
   "metadata": {
    "collapsed": false
   },
   "outputs": [],
   "source": [
    "try:\n",
    "   num = float(raw_input(\"Enter a number \"))\n",
    "except:\n",
    "   print \"Some thing went wrong\" "
   ]
  },
  {
   "cell_type": "markdown",
   "metadata": {},
   "source": [
    "Call to float() raises an exception, the exception is caught and the crafted message is displayed \"Some thing went wrong\". If no exception is raised, num gets the number entered by user and the program skips the except clause, continuing with the rest of the code.\n",
    "Now we take a look on syntax of try and except block.\n",
    "\n",
    "\ttry:\n",
    "   \t\toperation block;\n",
    "  \n",
    "\texcept Exception_name:\n",
    "\t\tIf there is Exception_name1 then execute this block.\n",
    "\texcept Exception_name2:\n",
    " \t\tIf there is Exception_name2, then execute this block.\n",
    " \t \n",
    "\telse:\n",
    "\t\tIf there is no exception then execute this block.\n"
   ]
  },
  {
   "cell_type": "markdown",
   "metadata": {},
   "source": [
    "## Multiple Python exception block "
   ]
  },
  {
   "cell_type": "code",
   "execution_count": null,
   "metadata": {
    "collapsed": true
   },
   "outputs": [],
   "source": [
    "try:\n",
    "   num = int(raw_input(\"Enter the number \"))\n",
    "   re = 100/num\n",
    "except: ValueError :\n",
    "   print \"Value is not int type\"\n",
    "except: ZeroDivisionError :\n",
    "   print \"Don't use zero\"\n",
    "else: :\n",
    "   print \"result is \",re "
   ]
  },
  {
   "cell_type": "markdown",
   "metadata": {},
   "source": [
    "## Cleaning up with finally / The try/finally Statement \n",
    "When you are completely sure that an action must be happened after code run, regardless of the exception behaviour of the program.\n",
    "\n",
    "try:\n",
    "\t  #run this action first\n",
    "except: \n",
    "\t # Run if exception occurs \n",
    "Finally :\n",
    "\t   #Always run this code\n",
    "\n",
    "The order of statement should be in order.\n",
    "try -> except -> else -> finally "
   ]
  },
  {
   "cell_type": "code",
   "execution_count": null,
   "metadata": {
    "collapsed": true
   },
   "outputs": [],
   "source": [
    "try:\n",
    "   num = int(raw_input(\"Enter the number \"))\n",
    "   re = 100/num\n",
    "except:\n",
    "   print \"Something is wrong\"\n",
    "else:\n",
    "   print \"result is \",re\n",
    "finally :\n",
    "   print \"finally program ends\" "
   ]
  },
  {
   "cell_type": "markdown",
   "metadata": {},
   "source": [
    "## Raising an Python exceptions:\n",
    "To trigger exceptions explicitly, you can code raise statements. Their general form is simple Syntax\n",
    "\n",
    "raise <instance> # Raise instance of class\n",
    "raise <class> # Make and raise instance of class\n",
    "raise # Reraise the most recent exception\n"
   ]
  },
  {
   "cell_type": "code",
   "execution_count": null,
   "metadata": {
    "collapsed": true
   },
   "outputs": [],
   "source": [
    "val = int(raw_input(\"Enter the number \"))\n",
    "try:\n",
    "   if val ==2:\n",
    "      raise IOError\n",
    "except IOError:\n",
    "   print \"an exception is raised\"\n",
    "else:\n",
    "   print \"value is not 2\" "
   ]
  },
  {
   "cell_type": "markdown",
   "metadata": {},
   "source": [
    "In above example, very simple example just to demonstrate how to raise the exception, if val == 2 then exception IOError is raised. (2 may be unlucky number for user ) . And this exception is caught by except block ."
   ]
  }
 ],
 "metadata": {
  "kernelspec": {
   "display_name": "Python 2",
   "language": "python",
   "name": "python2"
  },
  "language_info": {
   "codemirror_mode": {
    "name": "ipython",
    "version": 2
   },
   "file_extension": ".py",
   "mimetype": "text/x-python",
   "name": "python",
   "nbconvert_exporter": "python",
   "pygments_lexer": "ipython2",
   "version": "2.7.11"
  }
 },
 "nbformat": 4,
 "nbformat_minor": 0
}
